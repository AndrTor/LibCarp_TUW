{
 "cells": [
  {
   "cell_type": "code",
   "execution_count": 1,
   "metadata": {},
   "outputs": [],
   "source": [
    "import urllib.request \n",
    "import json"
   ]
  },
  {
   "cell_type": "code",
   "execution_count": 2,
   "metadata": {},
   "outputs": [],
   "source": [
    "# neue Variable\n",
    "base_url = \"https://api.crossref.org/works/\"\n",
    "\n",
    "# Liste mit DOIs\n",
    "dois = [\"10.1371/journal.pcbi.1004668\",\n",
    "        \"10.21105/joss.01035\",\n",
    "        \"10.1038/35057062\",\n",
    "        \"10.21105/joss.01006\"]"
   ]
  },
  {
   "cell_type": "code",
   "execution_count": 31,
   "metadata": {},
   "outputs": [
    {
     "name": "stdout",
     "output_type": "stream",
     "text": [
      "A Quick Introduction to Version Control with Git and GitHub PLoS Comput Biol 10.1371/journal.pcbi.1004668\n",
      "nasapower: A NASA POWER Global Meteorology, Surface Solar Energy and Climatology Data Client for R JOSS 10.21105/joss.01035\n",
      "Initial sequencing and analysis of the human genome Nature 10.1038/35057062\n",
      "SeqTools: A python package for easy transformation, combination and evaluation of large datasets. JOSS 10.21105/joss.01006\n"
     ]
    }
   ],
   "source": [
    "# alles nebeneiannder \n",
    "\n",
    "for doi in dois:\n",
    "    url_list = base_url + doi\n",
    "    doi_json_data = urllib.request.urlopen(url_list).read()\n",
    "    doi_data = json.loads(doi_json_data)\n",
    "    print(doi_data[\"message\"][\"title\"][0], doi_data[\"message\"][\"short-container-title\"][0], doi_data[\"message\"][\"DOI\"]) \n",
    "    \n"
   ]
  },
  {
   "cell_type": "code",
   "execution_count": 10,
   "metadata": {},
   "outputs": [
    {
     "data": {
      "text/plain": [
       "list"
      ]
     },
     "execution_count": 10,
     "metadata": {},
     "output_type": "execute_result"
    }
   ],
   "source": [
    "type(url_list)"
   ]
  },
  {
   "cell_type": "code",
   "execution_count": 32,
   "metadata": {},
   "outputs": [
    {
     "name": "stdout",
     "output_type": "stream",
     "text": [
      "A Quick Introduction to Version Control with Git and GitHub PLoS Comput Biol 10.1371/journal.pcbi.1004668\n",
      "nasapower: A NASA POWER Global Meteorology, Surface Solar Energy and Climatology Data Client for R JOSS 10.21105/joss.01035\n",
      "Initial sequencing and analysis of the human genome Nature 10.1038/35057062\n",
      "SeqTools: A python package for easy transformation, combination and evaluation of large datasets. JOSS 10.21105/joss.01006\n"
     ]
    }
   ],
   "source": [
    "for doi in dois:\n",
    "    url_list = base_url + doi\n",
    "    doi_json_data = urllib.request.urlopen(url_list).read()\n",
    "    doi_data = json.loads(doi_json_data)\n",
    "    print(doi_data[\"message\"][\"title\"][0], doi_data[\"message\"][\"short-container-title\"][0], doi) \n",
    "    "
   ]
  },
  {
   "cell_type": "code",
   "execution_count": 33,
   "metadata": {},
   "outputs": [
    {
     "name": "stdout",
     "output_type": "stream",
     "text": [
      "A Quick Introduction to Version Control with Git and GitHub\tPLoS Comput Biol\t10.1371/journal.pcbi.1004668\n",
      "nasapower: A NASA POWER Global Meteorology, Surface Solar Energy and Climatology Data Client for R\tJOSS\t10.21105/joss.01035\n",
      "Initial sequencing and analysis of the human genome\tNature\t10.1038/35057062\n",
      "SeqTools: A python package for easy transformation, combination and evaluation of large datasets.\tJOSS\t10.21105/joss.01006\n"
     ]
    }
   ],
   "source": [
    "# hier jetzt mit Tab separiert\n",
    "\n",
    "for doi in dois:\n",
    "    url_list = base_url + doi\n",
    "    doi_json_data = urllib.request.urlopen(url_list).read()\n",
    "    doi_data = json.loads(doi_json_data)\n",
    "    print(doi_data[\"message\"][\"title\"][0]\n",
    "          + \"\\t\" + doi_data[\"message\"][\"short-container-title\"][0] \n",
    "          + \"\\t\" + doi) "
   ]
  },
  {
   "cell_type": "code",
   "execution_count": 34,
   "metadata": {},
   "outputs": [
    {
     "name": "stdout",
     "output_type": "stream",
     "text": [
      "10.1371/journal.pcbi.1004668\n",
      "A Quick Introduction to Version Control with Git and GitHub\n",
      "PLoS Comput Biol\n",
      "--------------\n",
      "10.21105/joss.01035\n",
      "nasapower: A NASA POWER Global Meteorology, Surface Solar Energy and Climatology Data Client for R\n",
      "JOSS\n",
      "--------------\n",
      "10.1038/35057062\n",
      "Initial sequencing and analysis of the human genome\n",
      "Nature\n",
      "--------------\n",
      "10.21105/joss.01006\n",
      "SeqTools: A python package for easy transformation, combination and evaluation of large datasets.\n",
      "JOSS\n",
      "--------------\n"
     ]
    }
   ],
   "source": [
    "# möglich auch vorher das untereinander\n",
    "for doi in dois:\n",
    "    full_url = base_url + doi\n",
    "    doi_json_data = urllib.request.urlopen(full_url).read()\n",
    "    doi_data = json.loads(doi_json_data)\n",
    "    print(doi)\n",
    "    print(doi_data[\"message\"][\"title\"][0])\n",
    "    print(doi_data[\"message\"][\"short-container-title\"][0])\n",
    "    print(\"--------------\")"
   ]
  },
  {
   "cell_type": "code",
   "execution_count": null,
   "metadata": {},
   "outputs": [],
   "source": []
  }
 ],
 "metadata": {
  "kernelspec": {
   "display_name": "Python 3",
   "language": "python",
   "name": "python3"
  },
  "language_info": {
   "codemirror_mode": {
    "name": "ipython",
    "version": 3
   },
   "file_extension": ".py",
   "mimetype": "text/x-python",
   "name": "python",
   "nbconvert_exporter": "python",
   "pygments_lexer": "ipython3",
   "version": "3.7.0"
  }
 },
 "nbformat": 4,
 "nbformat_minor": 2
}
